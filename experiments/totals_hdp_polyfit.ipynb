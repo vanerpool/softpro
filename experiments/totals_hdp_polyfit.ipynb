{
 "cells": [
  {
   "cell_type": "code",
   "execution_count": null,
   "metadata": {},
   "outputs": [],
   "source": [
    "x = [0.25, 0.5, 0.75]\n",
    "\n",
    "y = data_3_nodups[data_3_nodups['DRAW'].isnull()].loc[:, ['TO_4_25', 'TO_4_5', 'TO_4_75',\n",
    "                                                          'TU_4_25', 'TU_4_5', 'TU_4_75',]]\n",
    "y['_25'] = fair_odd(y['TO_4_25'], margin_2(y['TO_4_25'], y['TU_4_25']))\n",
    "y['_5'] = fair_odd(y['TO_4_5'], margin_2(y['TO_4_5'], y['TU_4_5']))\n",
    "y['_75'] = fair_odd(y['TO_4_75'], margin_2(y['TO_4_75'], y['TU_4_75']))\n",
    "\n",
    "np.polyfit(x, y.iloc[5, -3:], 5)"
   ]
  }
 ],
 "metadata": {
  "kernelspec": {
   "display_name": "Python 3",
   "language": "python",
   "name": "python3"
  },
  "language_info": {
   "codemirror_mode": {
    "name": "ipython",
    "version": 3
   },
   "file_extension": ".py",
   "mimetype": "text/x-python",
   "name": "python",
   "nbconvert_exporter": "python",
   "pygments_lexer": "ipython3",
   "version": "3.6.5"
  }
 },
 "nbformat": 4,
 "nbformat_minor": 2
}
