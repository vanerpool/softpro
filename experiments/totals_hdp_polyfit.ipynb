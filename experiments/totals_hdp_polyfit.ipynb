{
 "cells": [
  {
   "cell_type": "code",
   "execution_count": 1,
   "metadata": {},
   "outputs": [],
   "source": [
    "%load_ext autoreload\n",
    "%autoreload 2"
   ]
  },
  {
   "cell_type": "code",
   "execution_count": 95,
   "metadata": {},
   "outputs": [
    {
     "data": {
      "application/vnd.jupyter.widget-view+json": {
       "model_id": "bb11975349194d50aacf7264579e9d0b",
       "version_major": 2,
       "version_minor": 0
      },
      "text/plain": [
       "HBox(children=(IntProgress(value=1, bar_style='info', max=1), HTML(value='')))"
      ]
     },
     "metadata": {},
     "output_type": "display_data"
    },
    {
     "name": "stdout",
     "output_type": "stream",
     "text": [
      "\n"
     ]
    }
   ],
   "source": [
    "import os\n",
    "import sys\n",
    "import importlib\n",
    "\n",
    "import pandas as pd\n",
    "import numpy as np\n",
    "\n",
    "import matplotlib.pyplot as plt\n",
    "\n",
    "from scipy import hstack, vstack\n",
    "\n",
    "import warnings\n",
    "warnings.filterwarnings('ignore')\n",
    "\n",
    "pd.set_option('display.max_columns', 200)\n",
    "plt.style.use('ggplot')\n",
    "\n",
    "sys.path.append('./')\n",
    "sys.path.append('./operator_position')\n",
    "\n",
    "sys.path.append('/Users/i.tolkachev/freelance/git/softpro/')\n",
    "import odds\n",
    "\n",
    "from tqdm import tqdm_notebook\n",
    "\n",
    "tqdm_notebook().pandas()"
   ]
  },
  {
   "cell_type": "code",
   "execution_count": 5,
   "metadata": {},
   "outputs": [],
   "source": [
    "data = pd.read_excel('/Users/i.tolkachev/freelance/softpro/20191125.xlsx', sheet_name='Sheet2')"
   ]
  },
  {
   "cell_type": "code",
   "execution_count": 6,
   "metadata": {},
   "outputs": [],
   "source": [
    "data_nodups = data.drop(['Id', 'DateAdded'], axis=1).drop_duplicates()"
   ]
  },
  {
   "cell_type": "code",
   "execution_count": 15,
   "metadata": {},
   "outputs": [],
   "source": [
    "columns_data = [c for c in data_nodups.columns.tolist() if not ('computed' in c or 'disc' in c)]\n",
    "\n",
    "total_columns = [c for c in columns_data if 'TO' in c or 'TU' in c]\n",
    "hdp_columns = [c for c in columns_data if 'HDP' in c]"
   ]
  },
  {
   "cell_type": "code",
   "execution_count": 18,
   "metadata": {},
   "outputs": [],
   "source": [
    "def fair_odd(odd, margin):\n",
    "    return (odd*(margin+1))\n",
    "\n",
    "def margin_2(odd_1, odd_2):\n",
    "    return 1/odd_1 + 1/odd_2 - 1\n",
    "\n",
    "def margin_3(odd_1, odd_2, odd_3):\n",
    "    return 1/odd_1 + 1/odd_2 + 1/odd_3 - 1"
   ]
  },
  {
   "cell_type": "markdown",
   "metadata": {},
   "source": [
    "## Some samples of fitting odds probability "
   ]
  },
  {
   "cell_type": "code",
   "execution_count": 65,
   "metadata": {},
   "outputs": [
    {
     "data": {
      "text/html": [
       "<div>\n",
       "<style scoped>\n",
       "    .dataframe tbody tr th:only-of-type {\n",
       "        vertical-align: middle;\n",
       "    }\n",
       "\n",
       "    .dataframe tbody tr th {\n",
       "        vertical-align: top;\n",
       "    }\n",
       "\n",
       "    .dataframe thead th {\n",
       "        text-align: right;\n",
       "    }\n",
       "</style>\n",
       "<table border=\"1\" class=\"dataframe\">\n",
       "  <thead>\n",
       "    <tr style=\"text-align: right;\">\n",
       "      <th></th>\n",
       "      <th>index</th>\n",
       "      <th>0</th>\n",
       "      <th>to</th>\n",
       "    </tr>\n",
       "  </thead>\n",
       "  <tbody>\n",
       "    <tr>\n",
       "      <th>0</th>\n",
       "      <td>TU_1_5</td>\n",
       "      <td>2.85</td>\n",
       "      <td>NaN</td>\n",
       "    </tr>\n",
       "    <tr>\n",
       "      <th>1</th>\n",
       "      <td>TU_1_75</td>\n",
       "      <td>2.47</td>\n",
       "      <td>NaN</td>\n",
       "    </tr>\n",
       "    <tr>\n",
       "      <th>2</th>\n",
       "      <td>TU_2_0</td>\n",
       "      <td>2.08</td>\n",
       "      <td>NaN</td>\n",
       "    </tr>\n",
       "    <tr>\n",
       "      <th>3</th>\n",
       "      <td>TU_2_25</td>\n",
       "      <td>1.74</td>\n",
       "      <td>NaN</td>\n",
       "    </tr>\n",
       "    <tr>\n",
       "      <th>4</th>\n",
       "      <td>TU_2_5</td>\n",
       "      <td>1.558</td>\n",
       "      <td>NaN</td>\n",
       "    </tr>\n",
       "  </tbody>\n",
       "</table>\n",
       "</div>"
      ],
      "text/plain": [
       "     index      0   to\n",
       "0   TU_1_5   2.85  NaN\n",
       "1  TU_1_75   2.47  NaN\n",
       "2   TU_2_0   2.08  NaN\n",
       "3  TU_2_25   1.74  NaN\n",
       "4   TU_2_5  1.558  NaN"
      ]
     },
     "execution_count": 65,
     "metadata": {},
     "output_type": "execute_result"
    }
   ],
   "source": [
    "totals_u.loc[:, 'to'] = totals[to_columns]\n",
    "totals_u"
   ]
  },
  {
   "cell_type": "code",
   "execution_count": 71,
   "metadata": {},
   "outputs": [
    {
     "data": {
      "text/html": [
       "<div>\n",
       "<style scoped>\n",
       "    .dataframe tbody tr th:only-of-type {\n",
       "        vertical-align: middle;\n",
       "    }\n",
       "\n",
       "    .dataframe tbody tr th {\n",
       "        vertical-align: top;\n",
       "    }\n",
       "\n",
       "    .dataframe thead th {\n",
       "        text-align: right;\n",
       "    }\n",
       "</style>\n",
       "<table border=\"1\" class=\"dataframe\">\n",
       "  <thead>\n",
       "    <tr style=\"text-align: right;\">\n",
       "      <th></th>\n",
       "      <th>index</th>\n",
       "      <th>0</th>\n",
       "      <th>index</th>\n",
       "      <th>0</th>\n",
       "    </tr>\n",
       "  </thead>\n",
       "  <tbody>\n",
       "    <tr>\n",
       "      <th>0</th>\n",
       "      <td>TO_1_5</td>\n",
       "      <td>1.418</td>\n",
       "      <td>TU_1_5</td>\n",
       "      <td>2.85</td>\n",
       "    </tr>\n",
       "    <tr>\n",
       "      <th>1</th>\n",
       "      <td>TO_1_75</td>\n",
       "      <td>1.543</td>\n",
       "      <td>TU_1_75</td>\n",
       "      <td>2.47</td>\n",
       "    </tr>\n",
       "    <tr>\n",
       "      <th>2</th>\n",
       "      <td>TO_2_0</td>\n",
       "      <td>1.757</td>\n",
       "      <td>TU_2_0</td>\n",
       "      <td>2.08</td>\n",
       "    </tr>\n",
       "    <tr>\n",
       "      <th>3</th>\n",
       "      <td>TO_2_25</td>\n",
       "      <td>2.1</td>\n",
       "      <td>TU_2_25</td>\n",
       "      <td>1.74</td>\n",
       "    </tr>\n",
       "    <tr>\n",
       "      <th>4</th>\n",
       "      <td>TO_2_5</td>\n",
       "      <td>2.43</td>\n",
       "      <td>TU_2_5</td>\n",
       "      <td>1.558</td>\n",
       "    </tr>\n",
       "  </tbody>\n",
       "</table>\n",
       "</div>"
      ],
      "text/plain": [
       "     index      0    index      0\n",
       "0   TO_1_5  1.418   TU_1_5   2.85\n",
       "1  TO_1_75  1.543  TU_1_75   2.47\n",
       "2   TO_2_0  1.757   TU_2_0   2.08\n",
       "3  TO_2_25    2.1  TU_2_25   1.74\n",
       "4   TO_2_5   2.43   TU_2_5  1.558"
      ]
     },
     "execution_count": 71,
     "metadata": {},
     "output_type": "execute_result"
    }
   ],
   "source": [
    "pd.concat([totals[to_columns].reset_index(), totals[tu_columns].reset_index()], axis=1)"
   ]
  },
  {
   "cell_type": "code",
   "execution_count": 89,
   "metadata": {},
   "outputs": [
    {
     "data": {
      "text/plain": [
       "array([[2.85, 1.418],\n",
       "       [2.47, 1.543],\n",
       "       [2.08, 1.757],\n",
       "       [1.74, 2.1],\n",
       "       [1.558, 2.43]], dtype=object)"
      ]
     },
     "execution_count": 89,
     "metadata": {},
     "output_type": "execute_result"
    }
   ],
   "source": [
    "totals"
   ]
  },
  {
   "cell_type": "code",
   "execution_count": 90,
   "metadata": {},
   "outputs": [
    {
     "data": {
      "text/plain": [
       "array([2.85, 2.47, 2.08, 1.74, 1.558], dtype=object)"
      ]
     },
     "execution_count": 90,
     "metadata": {},
     "output_type": "execute_result"
    }
   ],
   "source": [
    "totals_u"
   ]
  },
  {
   "cell_type": "code",
   "execution_count": 126,
   "metadata": {},
   "outputs": [
    {
     "data": {
      "application/vnd.jupyter.widget-view+json": {
       "model_id": "b79961de4e334627a7f70dc9a0d56ae4",
       "version_major": 2,
       "version_minor": 0
      },
      "text/plain": [
       "HBox(children=(IntProgress(value=0, max=892), HTML(value='')))"
      ]
     },
     "metadata": {},
     "output_type": "display_data"
    },
    {
     "name": "stdout",
     "output_type": "stream",
     "text": [
      "\n"
     ]
    }
   ],
   "source": [
    "x = [0, 0.25, 0.5, 0.75]\n",
    "\n",
    "coeffs = []\n",
    "\n",
    "for i in tqdm_notebook(range(data_nodups.shape[0])):\n",
    "    \n",
    "    totals = data_nodups.iloc[i, :][total_columns]\n",
    "    \n",
    "    # find not NAN totals from line\n",
    "    \n",
    "    totals = totals[totals.notnull()]\n",
    "    tu_columns = [c for c in totals.index if 'U' in c]\n",
    "    to_columns = [c for c in totals.index if 'O' in c]\n",
    "    totals_u = totals[tu_columns].values\n",
    "    totals_o = totals[to_columns].values\n",
    "    totals = vstack((totals_u, totals_o)).T \n",
    "    x, y = [], []\n",
    "    for i, row in enumerate(totals):\n",
    "        tu, to = row[0], row[1]\n",
    "        margin = margin_2(to, tu)\n",
    "        total_value = float(tu_columns[i][3:].replace('_', '.'))\n",
    "        x.append(total_value) \n",
    "        y.append(1/fair_odd(tu, margin))\n",
    "\n",
    "    ans = np.polyfit(x, y, 2)\n",
    "\n",
    "    x=np.arange(x[0]-0.5, x[-1]+0.5, 0.01)\n",
    "    \n",
    "    def f(x):\n",
    "        return sum(a*x**i for i, a in enumerate(ans))\n",
    "    \n",
    "    y=[f(x0) for x0 in x] \n",
    "    coeffs.append(ans)"
   ]
  },
  {
   "cell_type": "markdown",
   "metadata": {},
   "source": [
    "Посмотрим на разброс коэффициентов"
   ]
  },
  {
   "cell_type": "code",
   "execution_count": 133,
   "metadata": {},
   "outputs": [
    {
     "name": "stdout",
     "output_type": "stream",
     "text": [
      "Разброс, коэф при степени 0: 0.01700812516549545\n",
      "Разброс, коэф при степени 1: 0.1059848951289387\n",
      "Разброс, коэф при степени 2: 0.2665468567752061\n"
     ]
    }
   ],
   "source": [
    "np_coeffs = np.array(coeffs)\n",
    "\n",
    "print('Разброс, коэф при степени 0:', np.std(np_coeffs[:, 0]))\n",
    "print('Разброс, коэф при степени 1:', np.std(np_coeffs[:, 1]))\n",
    "print('Разброс, коэф при степени 2:', np.std(np_coeffs[:, 2]))"
   ]
  },
  {
   "cell_type": "code",
   "execution_count": 138,
   "metadata": {},
   "outputs": [
    {
     "data": {
      "image/png": "[encoded data removed]",
      "text/plain": [
       "<Figure size 432x288 with 1 Axes>"
      ]
     },
     "metadata": {},
     "output_type": "display_data"
    },
    {
     "data": {
      "image/png": "[encoded data removed]",
      "text/plain": [
       "<Figure size 432x288 with 1 Axes>"
      ]
     },
     "metadata": {},
     "output_type": "display_data"
    },
    {
     "data": {
      "image/png": "[encoded data removed]",
      "text/plain": [
       "<Figure size 432x288 with 1 Axes>"
      ]
     },
     "metadata": {},
     "output_type": "display_data"
    }
   ],
   "source": [
    "import seaborn as sns\n",
    "\n",
    "sns.boxplot(np_coeffs[:, 0])\n",
    "plt.title('коэф при степени 0')\n",
    "plt.show()\n",
    "\n",
    "sns.boxplot(np_coeffs[:, 1])\n",
    "plt.title('коэф при степени 1')\n",
    "plt.show()\n",
    "\n",
    "sns.boxplot(np_coeffs[:, 2])\n",
    "plt.title('коэф при степени 2')\n",
    "plt.show()"
   ]
  },
  {
   "cell_type": "markdown",
   "metadata": {},
   "source": [
    "##  Выводы\n",
    "- коэффициенты имеют очевидный разброс, поэтому найти какую-то общую зависимость \n",
    "  между целыми, четвертичными и половинчатыми не удается\n",
    "  \n",
    "## Что можно попробовать\n",
    "- посмотреть матчи, в которых есть несколько половинчатых тоталов, и приближенно решить систему уравнений,\n",
    "  чтобы понять, минимизируется ли Loss до нуля для этой системы. Если нет, то получается, что вероятности \n",
    "  из разных тоталов принадлежат разным распределениям Пуассона, что опять даёт повод задуматься о возможности\n",
    "  найти стабильно более точное решение."
   ]
  },
  {
   "cell_type": "code",
   "execution_count": null,
   "metadata": {},
   "outputs": [],
   "source": []
  },
  {
   "cell_type": "code",
   "execution_count": null,
   "metadata": {},
   "outputs": [],
   "source": [
    "# plot example graphs\n",
    "\n",
    "totals = data_nodups.iloc[0, :][total_columns]\n",
    "\n",
    "# find not NAN totals from line\n",
    "\n",
    "totals = totals[totals.notnull()]\n",
    "tu_columns = [c for c in totals.index if 'U' in c]\n",
    "to_columns = [c for c in totals.index if 'O' in c]\n",
    "totals_u = totals[tu_columns].values\n",
    "totals_o = totals[to_columns].values\n",
    "totals = vstack((totals_u, totals_o)).T \n",
    "x, y = [], []\n",
    "for i, row in enumerate(totals):\n",
    "    tu, to = row[0], row[1]\n",
    "    margin = margin_2(to, tu)\n",
    "    total_value = float(tu_columns[i][3:].replace('_', '.'))\n",
    "    x.append(total_value) \n",
    "    y.append(1/fair_odd(tu, margin))\n",
    "\n",
    "plt.figure(figsize=(8, 8))\n",
    "plt.scatter(x, y)\n",
    "    \n",
    "\n",
    "\n",
    "ans = np.polyfit(x, y, 2)\n",
    "x=np.arange(x[0]-0.5, x[-1]+0.5, 0.01)\n",
    "\n",
    "# polynomial function\n",
    "def f1(x):\n",
    "    return sum(a*x**i for i, a in enumerate(ans))\n",
    "\n",
    "y=[f1(x0) for x0 in x] \n",
    "\n",
    "# plot fitted curve\n",
    "plt.plot(x, y)\n",
    "plt.show()"
   ]
  },
  {
   "cell_type": "code",
   "execution_count": null,
   "metadata": {},
   "outputs": [],
   "source": []
  },
  {
   "cell_type": "code",
   "execution_count": null,
   "metadata": {},
   "outputs": [],
   "source": []
  },
  {
   "cell_type": "code",
   "execution_count": null,
   "metadata": {},
   "outputs": [],
   "source": []
  },
  {
   "cell_type": "code",
   "execution_count": null,
   "metadata": {},
   "outputs": [],
   "source": []
  }
 ],
 "metadata": {
  "kernelspec": {
   "display_name": "Python 3",
   "language": "python",
   "name": "python3"
  },
  "language_info": {
   "codemirror_mode": {
    "name": "ipython",
    "version": 3
   },
   "file_extension": ".py",
   "mimetype": "text/x-python",
   "name": "python",
   "nbconvert_exporter": "python",
   "pygments_lexer": "ipython3",
   "version": "3.6.5"
  }
 },
 "nbformat": 4,
 "nbformat_minor": 2
}
