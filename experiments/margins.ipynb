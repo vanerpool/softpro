{
 "cells": [
  {
   "cell_type": "markdown",
   "metadata": {},
   "source": [
    "# Проверка разных формул вычисления маржи"
   ]
  },
  {
   "cell_type": "markdown",
   "metadata": {},
   "source": [
    "## margin normalized (old)"
   ]
  },
  {
   "cell_type": "code",
   "execution_count": 14,
   "metadata": {},
   "outputs": [],
   "source": [
    "def fair_odd(odd, margin):\n",
    "    return odd / (1 - margin)\n",
    "\n",
    "def margin_2(odd_1, odd_2):\n",
    "    return 1 - ((odd_1 * odd_2)/(odd_1 + odd_2))\n",
    "\n",
    "def margin_3(odd_1, odd_2, odd_3):\n",
    "    return (1/odd_1 + 1/odd_2 + 1/odd_3 - 1)/(1/odd_1 + 1/odd_2 + 1/odd_3)"
   ]
  },
  {
   "cell_type": "code",
   "execution_count": 15,
   "metadata": {},
   "outputs": [
    {
     "name": "stdout",
     "output_type": "stream",
     "text": [
      "real probability 1: 0.5596234309623432\n",
      "real probabliity 2: 0.440376569037657\n",
      "sum of probas: 1.0000000000000002\n",
      "margin value: 0.05759414225941406\n",
      "probability 1 with margin: 0.5938242280285035\n",
      "probability 2 with margin: 0.4672897196261682\n"
     ]
    }
   ],
   "source": [
    "# 2 исхода\n",
    "m = margin_2(1.684, 2.14)\n",
    "\n",
    "p1 = 1 / fair_odd(1.684, m)\n",
    "p2 = 1 / fair_odd(2.14, m)\n",
    "print('real probability 1:', p1)\n",
    "print('real probabliity 2:', p2)\n",
    "print('sum of probas:', p1 + p2)\n",
    "print('margin value:', m)\n",
    "print('probability 1 with margin:', 1/1.684)\n",
    "print('probability 2 with margin:', 1/2.14)"
   ]
  },
  {
   "cell_type": "code",
   "execution_count": 16,
   "metadata": {},
   "outputs": [
    {
     "name": "stdout",
     "output_type": "stream",
     "text": [
      "real probability 1: 0.5183705055498447\n",
      "real probabliity 2: 0.25128495362616804\n",
      "real probabliity 3: 0.23034454082398736\n",
      "sum of probas: 1.0\n",
      "margin value: 0.06019427343813161\n",
      "probability 1 with margin: 0.5515719801434087\n",
      "probability 2 with margin: 0.267379679144385\n",
      "probability 2 with margin: 0.24509803921568626\n"
     ]
    }
   ],
   "source": [
    "m = margin_3(1.813, 3.74, 4.08)\n",
    "\n",
    "p1 = 1 / fair_odd(1.813, m)\n",
    "p2 = 1 / fair_odd(3.74, m)\n",
    "p3 = 1 / fair_odd(4.08, m)\n",
    "print('real probability 1:', p1)\n",
    "print('real probabliity 2:', p2)\n",
    "print('real probabliity 3:', p3)\n",
    "print('sum of probas:', p1 + p2 + p3)\n",
    "print('margin value:', m)\n",
    "print('probability 1 with margin:', 1/1.813)\n",
    "print('probability 2 with margin:', 1/3.74)\n",
    "print('probability 2 with margin:', 1/4.08)"
   ]
  },
  {
   "cell_type": "markdown",
   "metadata": {},
   "source": [
    "## margin from calculator "
   ]
  },
  {
   "cell_type": "code",
   "execution_count": 17,
   "metadata": {},
   "outputs": [],
   "source": [
    "def fair_odd(odd, margin):\n",
    "    return (odd*(margin+1))\n",
    "\n",
    "def margin_2(odd_1, odd_2):\n",
    "    return 1/odd_1 + 1/odd_2 - 1\n",
    "\n",
    "def margin_3(odd_1, odd_2, odd_3):\n",
    "    return 1/odd_1 + 1/odd_2 + 1/odd_3 - 1"
   ]
  },
  {
   "cell_type": "code",
   "execution_count": 18,
   "metadata": {},
   "outputs": [
    {
     "name": "stdout",
     "output_type": "stream",
     "text": [
      "real probability 1: 0.5596234309623431\n",
      "real probabliity 2: 0.44037656903765693\n",
      "sum of probas: 1.0\n",
      "margin value: 0.06111394765467182\n",
      "probability 1 with margin: 0.5938242280285035\n",
      "probability 2 with margin: 0.4672897196261682\n"
     ]
    }
   ],
   "source": [
    "# 2 исхода\n",
    "m = margin_2(1.684, 2.14)\n",
    "\n",
    "p1 = 1 / fair_odd(1.684, m)\n",
    "p2 = 1 / fair_odd(2.14, m)\n",
    "print('real probability 1:', p1)\n",
    "print('real probabliity 2:', p2)\n",
    "print('sum of probas:', p1 + p2)\n",
    "print('margin value:', m)\n",
    "print('probability 1 with margin:', 1/1.684)\n",
    "print('probability 2 with margin:', 1/2.14)"
   ]
  },
  {
   "cell_type": "code",
   "execution_count": 19,
   "metadata": {},
   "outputs": [
    {
     "name": "stdout",
     "output_type": "stream",
     "text": [
      "real probability 1: 0.5183705055498447\n",
      "real probabliity 2: 0.251284953626168\n",
      "real probabliity 3: 0.23034454082398736\n",
      "sum of probas: 1.0\n",
      "margin value: 0.06404969850347997\n",
      "probability 1 with margin: 0.5515719801434087\n",
      "probability 2 with margin: 0.267379679144385\n",
      "probability 2 with margin: 0.24509803921568626\n"
     ]
    }
   ],
   "source": [
    "m = margin_3(1.813, 3.74, 4.08)\n",
    "\n",
    "p1 = 1 / fair_odd(1.813, m)\n",
    "p2 = 1 / fair_odd(3.74, m)\n",
    "p3 = 1 / fair_odd(4.08, m)\n",
    "print('real probability 1:', p1)\n",
    "print('real probabliity 2:', p2)\n",
    "print('real probabliity 3:', p3)\n",
    "print('sum of probas:', p1 + p2 + p3)\n",
    "print('margin value:', m)\n",
    "print('probability 1 with margin:', 1/1.813)\n",
    "print('probability 2 with margin:', 1/3.74)\n",
    "print('probability 2 with margin:', 1/4.08)"
   ]
  },
  {
   "cell_type": "markdown",
   "metadata": {},
   "source": [
    "## Вывод\n",
    "\n",
    "- Чистые вероятности совпадают, т.к. отличаются не только формулы расчёта маржи, но и формулы расчёта честных вероятностей\n",
    "- Для модели нет разницы, какую именно формулу использовать"
   ]
  }
 ],
 "metadata": {
  "kernelspec": {
   "display_name": "Python 3",
   "language": "python",
   "name": "python3"
  },
  "language_info": {
   "codemirror_mode": {
    "name": "ipython",
    "version": 3
   },
   "file_extension": ".py",
   "mimetype": "text/x-python",
   "name": "python",
   "nbconvert_exporter": "python",
   "pygments_lexer": "ipython3",
   "version": "3.6.5"
  }
 },
 "nbformat": 4,
 "nbformat_minor": 2
}
